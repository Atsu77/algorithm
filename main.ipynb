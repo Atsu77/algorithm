{
 "metadata": {
  "language_info": {
   "codemirror_mode": {
    "name": "ipython",
    "version": 3
   },
   "file_extension": ".py",
   "mimetype": "text/x-python",
   "name": "python",
   "nbconvert_exporter": "python",
   "pygments_lexer": "ipython3",
   "version": "3.7.10"
  },
  "orig_nbformat": 4,
  "kernelspec": {
   "name": "python3",
   "display_name": "Python 3.7.10 64-bit ('pypy3.7-7.3.4': pyenv)"
  },
  "interpreter": {
   "hash": "94e5a2c4e4c5c07b85410bc026e825543e8fb063ef5167d759d354a120dfd45a"
  }
 },
 "nbformat": 4,
 "nbformat_minor": 2,
 "cells": [
  {
   "cell_type": "code",
   "execution_count": 2,
   "metadata": {},
   "outputs": [],
   "source": [
    "i = 5"
   ]
  },
  {
   "cell_type": "code",
   "execution_count": 22,
   "metadata": {},
   "outputs": [
    {
     "output_type": "stream",
     "name": "stdout",
     "text": [
      "3\n"
     ]
    }
   ],
   "source": []
  },
  {
   "cell_type": "code",
   "execution_count": 41,
   "metadata": {},
   "outputs": [
    {
     "output_type": "stream",
     "name": "stdout",
     "text": [
      "0 []\n100 ['みかん']\n200 ['りんご']\n300 ['みかん', 'りんご']\n300 ['ぶどう']\n5\n"
     ]
    }
   ],
   "source": [
    "money = 3\n",
    "items = (('みかん', 100), ('りんご',  200), (\"ぶどう\", 300))\n",
    "n = len(items)\n",
    "count = 0\n",
    "for i in range(2**n):\n",
    "    bag = []\n",
    "    total_price = 0\n",
    "    for j in range(n):\n",
    "        if((i >> j) & 1):\n",
    "            bag.append(items[j][0])\n",
    "            total_price += items[j][1]\n",
    "    if (total_price <= 300):\n",
    "        print(total_price, bag)\n",
    "        count += 1\n",
    "    \n",
    "print(count)"
   ]
  },
  {
   "cell_type": "code",
   "execution_count": 95,
   "metadata": {},
   "outputs": [
    {
     "output_type": "stream",
     "name": "stdout",
     "text": [
      "0-2+9-0=7\n0-2+9+0=7\n"
     ]
    }
   ],
   "source": [
    "n = [0, 2, 9, 0]\n",
    "op_cnt = len(n) - 1\n",
    "for i in range(2**op_cnt):\n",
    "    op = [\"-\"] * op_cnt\n",
    "    result = 0\n",
    "    for j in range(op_cnt):\n",
    "        if((i >> j) & 1):\n",
    "            op[op_cnt - j -1] = \"+\"\n",
    "\n",
    "    formula = ''\n",
    "    for p_n, p_o in zip(n, op + [\"\"]):\n",
    "        formula += (str(p_n) + p_o)\n",
    "    if eval(formula) == 7:\n",
    "        print(formula + '=7')"
   ]
  },
  {
   "cell_type": "code",
   "execution_count": 42,
   "metadata": {},
   "outputs": [
    {
     "output_type": "execute_result",
     "data": {
      "text/plain": [
       "['a', 'a', 'a']"
      ]
     },
     "metadata": {},
     "execution_count": 42
    }
   ],
   "source": []
  }
 ]
}